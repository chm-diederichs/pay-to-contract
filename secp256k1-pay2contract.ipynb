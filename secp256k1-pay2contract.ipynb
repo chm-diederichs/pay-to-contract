{
 "cells": [
  {
   "cell_type": "markdown",
   "metadata": {},
   "source": [
    "# Secp256k1\n",
    "\n",
    "Constants from https://en.bitcoin.it/wiki/Secp256k1"
   ]
  },
  {
   "cell_type": "code",
   "execution_count": 1,
   "metadata": {},
   "outputs": [],
   "source": [
    "p = 0xFFFFFFFFFFFFFFFFFFFFFFFFFFFFFFFFFFFFFFFFFFFFFFFFFFFFFFFEFFFFFC2F\n",
    "F = FiniteField(p)"
   ]
  },
  {
   "cell_type": "code",
   "execution_count": 2,
   "metadata": {},
   "outputs": [],
   "source": [
    "a = 0\n",
    "b = 7\n",
    "E = EllipticCurve(F, [a, b])"
   ]
  },
  {
   "cell_type": "code",
   "execution_count": 3,
   "metadata": {},
   "outputs": [],
   "source": [
    "G_x = 0x79BE667EF9DCBBAC55A06295CE870B07029BFCDB2DCE28D959F2815B16F81798\n",
    "h = 1 # cofactor\n",
    "G = B = E.lift_x(G_x)"
   ]
  },
  {
   "cell_type": "code",
   "execution_count": 4,
   "metadata": {},
   "outputs": [],
   "source": [
    "assert(G.order() == 0xFFFFFFFFFFFFFFFFFFFFFFFFFFFFFFFEBAAEDCE6AF48A03BBFD25E8CD0364141)"
   ]
  },
  {
   "cell_type": "code",
   "execution_count": 5,
   "metadata": {},
   "outputs": [],
   "source": [
    "assert(E.order() / G.order() == h)"
   ]
  },
  {
   "cell_type": "markdown",
   "metadata": {},
   "source": [
    "# Key generation"
   ]
  },
  {
   "cell_type": "code",
   "execution_count": 6,
   "metadata": {},
   "outputs": [],
   "source": [
    "N = FiniteField(G.order())"
   ]
  },
  {
   "cell_type": "code",
   "execution_count": 7,
   "metadata": {},
   "outputs": [],
   "source": [
    "def keypair (x = None):\n",
    "    if x is None:\n",
    "        x = int(N.random_element(1, N.order() - 1))\n",
    "    P = x * G\n",
    "    return (x, P)"
   ]
  },
  {
   "cell_type": "markdown",
   "metadata": {},
   "source": [
    "# ECDSA"
   ]
  },
  {
   "cell_type": "code",
   "execution_count": 8,
   "metadata": {},
   "outputs": [],
   "source": [
    "import hashlib\n",
    "def sign (m, d):\n",
    "    e = int(hashlib.sha1(m).hexdigest(), 16) % N.order()\n",
    "    k = int(N.random_element(1, N.order() - 1))\n",
    "    R = k * G # (k, r) is like a one-time key pair\n",
    "    r = int(R.xy()[0]) % N.order()\n",
    "    assert(r % N.order() != 0)\n",
    "    s = (e + d*r)/k % N.order()\n",
    "    return [r,s]\n",
    "    "
   ]
  },
  {
   "cell_type": "code",
   "execution_count": 9,
   "metadata": {},
   "outputs": [],
   "source": [
    "def verify (sig, m, P):\n",
    "    r, s = sig\n",
    "    assert(0 < r < N.order())\n",
    "    assert(0 < s < N.order())\n",
    "    e = int(hashlib.sha1(m).hexdigest(), 16) % N.order()\n",
    "    u1 = e / s % N.order()\n",
    "    u2 = r / s % N.order()\n",
    "    R = u1 * G + u2 * P\n",
    "    v = int(R.xy()[0]) % N.order()\n",
    "    return v == r"
   ]
  },
  {
   "cell_type": "code",
   "execution_count": 212,
   "metadata": {},
   "outputs": [],
   "source": [
    "def sign2contract (m, d, c):\n",
    "    hashedMessage = int(hashlib.sha1(m).hexdigest(), 16) % N.order()\n",
    "    k = int(N.random_element(1, N.order() - 1))\n",
    "    R = k * G # (k, r) is like a one-time key pair\n",
    "    r = int(R.xy()[0]) % N.order()\n",
    "    e = (k + int(hashlib.sha1(str(r) + c).hexdigest(), 16)) % N.order()\n",
    "    Q = e * G\n",
    "    q = int(Q.xy()[0]) % N.order()\n",
    "    assert(r % N.order() != 0)\n",
    "    s = (hashedMessage + d*q)/e % N.order()\n",
    "    return [q, s], R"
   ]
  },
  {
   "cell_type": "code",
   "execution_count": 213,
   "metadata": {},
   "outputs": [],
   "source": [
    "sk, pk = keypair()"
   ]
  },
  {
   "cell_type": "code",
   "execution_count": 214,
   "metadata": {},
   "outputs": [],
   "source": [
    "commitSig = sign2contract('aaa', sk, 'bbb')"
   ]
  },
  {
   "cell_type": "code",
   "execution_count": 215,
   "metadata": {},
   "outputs": [
    {
     "data": {
      "text/plain": [
       "([32246202784481761909328952743724046103440961076730565433897776360619657156729,\n",
       "  10379687942096862383487235196010857466036345146583834602866457460329093864092],\n",
       " (56306156639224588148528766558006526624175635790609727167523915500083737435713 : 92798650632258975534137579122169765570429511544839700677349880248910649404454 : 1))"
      ]
     },
     "execution_count": 215,
     "metadata": {},
     "output_type": "execute_result"
    }
   ],
   "source": [
    "commitSig"
   ]
  },
  {
   "cell_type": "code",
   "execution_count": 224,
   "metadata": {},
   "outputs": [],
   "source": [
    "def verify2contract (m, pk, c, commit2sig):\n",
    "    [r, s], K  = commit2sig\n",
    "    assert(0 < r < N.order())\n",
    "    assert(0 < s < N.order())\n",
    "    hashedMessage = int(hashlib.sha1(m).hexdigest(), 16) % N.order()\n",
    "    u1 =  hashedMessage / s % N.order()\n",
    "    u2 = r / s % N.order()\n",
    "    R = u1 * G + u2 * pk\n",
    "    v = int(R.xy()[0]) % N.order()\n",
    "    w = int(K.xy()[0]) % N.order()\n",
    "    T = K + int(hashlib.sha1(str(w) + c).hexdigest(), 16) * G\n",
    "    t = int(T.xy()[0]) % N.order()\n",
    "    return v == r & r == t"
   ]
  },
  {
   "cell_type": "code",
   "execution_count": 225,
   "metadata": {},
   "outputs": [
    {
     "data": {
      "text/plain": [
       "True"
      ]
     },
     "execution_count": 225,
     "metadata": {},
     "output_type": "execute_result"
    }
   ],
   "source": [
    "verify2contract ('aaa', pk, 'bbb', commitSig)"
   ]
  },
  {
   "cell_type": "code",
   "execution_count": null,
   "metadata": {},
   "outputs": [],
   "source": []
  },
  {
   "cell_type": "code",
   "execution_count": null,
   "metadata": {},
   "outputs": [],
   "source": []
  }
 ],
 "metadata": {
  "kernelspec": {
   "display_name": "SageMath 8.7",
   "language": "",
   "name": "sagemath"
  },
  "language_info": {
   "codemirror_mode": {
    "name": "ipython",
    "version": 2
   },
   "file_extension": ".py",
   "mimetype": "text/x-python",
   "name": "python",
   "nbconvert_exporter": "python",
   "pygments_lexer": "ipython2",
   "version": "2.7.15"
  }
 },
 "nbformat": 4,
 "nbformat_minor": 2
}
